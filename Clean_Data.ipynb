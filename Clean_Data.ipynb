{
 "cells": [
  {
   "cell_type": "code",
   "execution_count": 3,
   "metadata": {},
   "outputs": [],
   "source": [
    "import pandas as pd"
   ]
  },
  {
   "cell_type": "code",
   "execution_count": 5,
   "metadata": {},
   "outputs": [],
   "source": [
    "July_2021_Monthly_Data = pd.read_csv(\"JC-202107-citibike-tripdata.csv\")"
   ]
  },
  {
   "cell_type": "code",
   "execution_count": 6,
   "metadata": {},
   "outputs": [
    {
     "data": {
      "text/html": [
       "<div>\n",
       "<style scoped>\n",
       "    .dataframe tbody tr th:only-of-type {\n",
       "        vertical-align: middle;\n",
       "    }\n",
       "\n",
       "    .dataframe tbody tr th {\n",
       "        vertical-align: top;\n",
       "    }\n",
       "\n",
       "    .dataframe thead th {\n",
       "        text-align: right;\n",
       "    }\n",
       "</style>\n",
       "<table border=\"1\" class=\"dataframe\">\n",
       "  <thead>\n",
       "    <tr style=\"text-align: right;\">\n",
       "      <th></th>\n",
       "      <th>ride_id</th>\n",
       "      <th>rideable_type</th>\n",
       "      <th>started_at</th>\n",
       "      <th>ended_at</th>\n",
       "      <th>start_station_name</th>\n",
       "      <th>start_station_id</th>\n",
       "      <th>end_station_name</th>\n",
       "      <th>end_station_id</th>\n",
       "      <th>start_lat</th>\n",
       "      <th>start_lng</th>\n",
       "      <th>end_lat</th>\n",
       "      <th>end_lng</th>\n",
       "      <th>member_casual</th>\n",
       "    </tr>\n",
       "  </thead>\n",
       "  <tbody>\n",
       "    <tr>\n",
       "      <th>0</th>\n",
       "      <td>2F01C15ECE379AE7</td>\n",
       "      <td>classic_bike</td>\n",
       "      <td>2021-07-31 13:53:26</td>\n",
       "      <td>2021-07-31 14:47:00</td>\n",
       "      <td>Bergen Ave &amp; Stegman St</td>\n",
       "      <td>JC108</td>\n",
       "      <td>South Waterfront Walkway - Sinatra Dr &amp; 1 St</td>\n",
       "      <td>HB103</td>\n",
       "      <td>40.706575</td>\n",
       "      <td>-74.086701</td>\n",
       "      <td>40.736982</td>\n",
       "      <td>-74.027781</td>\n",
       "      <td>member</td>\n",
       "    </tr>\n",
       "    <tr>\n",
       "      <th>1</th>\n",
       "      <td>CF7E2039ACB179C2</td>\n",
       "      <td>classic_bike</td>\n",
       "      <td>2021-07-17 19:06:01</td>\n",
       "      <td>2021-07-17 19:20:07</td>\n",
       "      <td>Bergen Ave &amp; Stegman St</td>\n",
       "      <td>JC108</td>\n",
       "      <td>Baldwin at Montgomery</td>\n",
       "      <td>JC020</td>\n",
       "      <td>40.706575</td>\n",
       "      <td>-74.086701</td>\n",
       "      <td>40.723659</td>\n",
       "      <td>-74.064194</td>\n",
       "      <td>member</td>\n",
       "    </tr>\n",
       "    <tr>\n",
       "      <th>2</th>\n",
       "      <td>9375052379DE50FC</td>\n",
       "      <td>classic_bike</td>\n",
       "      <td>2021-07-08 19:54:34</td>\n",
       "      <td>2021-07-08 20:43:06</td>\n",
       "      <td>Columbus Dr at Exchange Pl</td>\n",
       "      <td>JC106</td>\n",
       "      <td>Liberty Light Rail</td>\n",
       "      <td>JC052</td>\n",
       "      <td>40.716870</td>\n",
       "      <td>-74.032810</td>\n",
       "      <td>40.711242</td>\n",
       "      <td>-74.055701</td>\n",
       "      <td>member</td>\n",
       "    </tr>\n",
       "    <tr>\n",
       "      <th>3</th>\n",
       "      <td>EF77D67D538E108E</td>\n",
       "      <td>classic_bike</td>\n",
       "      <td>2021-07-18 20:21:15</td>\n",
       "      <td>2021-07-18 20:28:23</td>\n",
       "      <td>Columbus Dr at Exchange Pl</td>\n",
       "      <td>JC106</td>\n",
       "      <td>Warren St</td>\n",
       "      <td>JC006</td>\n",
       "      <td>40.716870</td>\n",
       "      <td>-74.032810</td>\n",
       "      <td>40.721124</td>\n",
       "      <td>-74.038051</td>\n",
       "      <td>member</td>\n",
       "    </tr>\n",
       "    <tr>\n",
       "      <th>4</th>\n",
       "      <td>3550C64E6994B8BC</td>\n",
       "      <td>classic_bike</td>\n",
       "      <td>2021-07-08 18:19:07</td>\n",
       "      <td>2021-07-08 18:24:48</td>\n",
       "      <td>Columbus Dr at Exchange Pl</td>\n",
       "      <td>JC106</td>\n",
       "      <td>Warren St</td>\n",
       "      <td>JC006</td>\n",
       "      <td>40.716870</td>\n",
       "      <td>-74.032810</td>\n",
       "      <td>40.721124</td>\n",
       "      <td>-74.038051</td>\n",
       "      <td>member</td>\n",
       "    </tr>\n",
       "    <tr>\n",
       "      <th>...</th>\n",
       "      <td>...</td>\n",
       "      <td>...</td>\n",
       "      <td>...</td>\n",
       "      <td>...</td>\n",
       "      <td>...</td>\n",
       "      <td>...</td>\n",
       "      <td>...</td>\n",
       "      <td>...</td>\n",
       "      <td>...</td>\n",
       "      <td>...</td>\n",
       "      <td>...</td>\n",
       "      <td>...</td>\n",
       "      <td>...</td>\n",
       "    </tr>\n",
       "    <tr>\n",
       "      <th>82544</th>\n",
       "      <td>908E437B7FAF3594</td>\n",
       "      <td>classic_bike</td>\n",
       "      <td>2021-07-23 15:49:32</td>\n",
       "      <td>2021-07-23 16:41:42</td>\n",
       "      <td>Grove St PATH</td>\n",
       "      <td>JC005</td>\n",
       "      <td>Liberty Light Rail</td>\n",
       "      <td>JC052</td>\n",
       "      <td>40.719586</td>\n",
       "      <td>-74.043117</td>\n",
       "      <td>40.711242</td>\n",
       "      <td>-74.055701</td>\n",
       "      <td>casual</td>\n",
       "    </tr>\n",
       "    <tr>\n",
       "      <th>82545</th>\n",
       "      <td>A7B392863F10E25F</td>\n",
       "      <td>classic_bike</td>\n",
       "      <td>2021-07-22 18:24:51</td>\n",
       "      <td>2021-07-22 18:33:52</td>\n",
       "      <td>Grove St PATH</td>\n",
       "      <td>JC005</td>\n",
       "      <td>Liberty Light Rail</td>\n",
       "      <td>JC052</td>\n",
       "      <td>40.719586</td>\n",
       "      <td>-74.043117</td>\n",
       "      <td>40.711242</td>\n",
       "      <td>-74.055701</td>\n",
       "      <td>casual</td>\n",
       "    </tr>\n",
       "    <tr>\n",
       "      <th>82546</th>\n",
       "      <td>DBF9FEE943C6FA3E</td>\n",
       "      <td>classic_bike</td>\n",
       "      <td>2021-07-23 22:40:11</td>\n",
       "      <td>2021-07-23 23:20:25</td>\n",
       "      <td>Grove St PATH</td>\n",
       "      <td>JC005</td>\n",
       "      <td>Liberty Light Rail</td>\n",
       "      <td>JC052</td>\n",
       "      <td>40.719586</td>\n",
       "      <td>-74.043117</td>\n",
       "      <td>40.711242</td>\n",
       "      <td>-74.055701</td>\n",
       "      <td>casual</td>\n",
       "    </tr>\n",
       "    <tr>\n",
       "      <th>82547</th>\n",
       "      <td>B3C1437E53E71A8F</td>\n",
       "      <td>classic_bike</td>\n",
       "      <td>2021-07-28 23:10:20</td>\n",
       "      <td>2021-07-28 23:20:23</td>\n",
       "      <td>Grove St PATH</td>\n",
       "      <td>JC005</td>\n",
       "      <td>Liberty Light Rail</td>\n",
       "      <td>JC052</td>\n",
       "      <td>40.719586</td>\n",
       "      <td>-74.043117</td>\n",
       "      <td>40.711242</td>\n",
       "      <td>-74.055701</td>\n",
       "      <td>casual</td>\n",
       "    </tr>\n",
       "    <tr>\n",
       "      <th>82548</th>\n",
       "      <td>16DF52E670465D19</td>\n",
       "      <td>classic_bike</td>\n",
       "      <td>2021-07-05 16:28:48</td>\n",
       "      <td>2021-07-05 16:36:10</td>\n",
       "      <td>Grove St PATH</td>\n",
       "      <td>JC005</td>\n",
       "      <td>Liberty Light Rail</td>\n",
       "      <td>JC052</td>\n",
       "      <td>40.719586</td>\n",
       "      <td>-74.043117</td>\n",
       "      <td>40.711242</td>\n",
       "      <td>-74.055701</td>\n",
       "      <td>casual</td>\n",
       "    </tr>\n",
       "  </tbody>\n",
       "</table>\n",
       "<p>82549 rows × 13 columns</p>\n",
       "</div>"
      ],
      "text/plain": [
       "                ride_id rideable_type           started_at  \\\n",
       "0      2F01C15ECE379AE7  classic_bike  2021-07-31 13:53:26   \n",
       "1      CF7E2039ACB179C2  classic_bike  2021-07-17 19:06:01   \n",
       "2      9375052379DE50FC  classic_bike  2021-07-08 19:54:34   \n",
       "3      EF77D67D538E108E  classic_bike  2021-07-18 20:21:15   \n",
       "4      3550C64E6994B8BC  classic_bike  2021-07-08 18:19:07   \n",
       "...                 ...           ...                  ...   \n",
       "82544  908E437B7FAF3594  classic_bike  2021-07-23 15:49:32   \n",
       "82545  A7B392863F10E25F  classic_bike  2021-07-22 18:24:51   \n",
       "82546  DBF9FEE943C6FA3E  classic_bike  2021-07-23 22:40:11   \n",
       "82547  B3C1437E53E71A8F  classic_bike  2021-07-28 23:10:20   \n",
       "82548  16DF52E670465D19  classic_bike  2021-07-05 16:28:48   \n",
       "\n",
       "                  ended_at          start_station_name start_station_id  \\\n",
       "0      2021-07-31 14:47:00     Bergen Ave & Stegman St            JC108   \n",
       "1      2021-07-17 19:20:07     Bergen Ave & Stegman St            JC108   \n",
       "2      2021-07-08 20:43:06  Columbus Dr at Exchange Pl            JC106   \n",
       "3      2021-07-18 20:28:23  Columbus Dr at Exchange Pl            JC106   \n",
       "4      2021-07-08 18:24:48  Columbus Dr at Exchange Pl            JC106   \n",
       "...                    ...                         ...              ...   \n",
       "82544  2021-07-23 16:41:42               Grove St PATH            JC005   \n",
       "82545  2021-07-22 18:33:52               Grove St PATH            JC005   \n",
       "82546  2021-07-23 23:20:25               Grove St PATH            JC005   \n",
       "82547  2021-07-28 23:20:23               Grove St PATH            JC005   \n",
       "82548  2021-07-05 16:36:10               Grove St PATH            JC005   \n",
       "\n",
       "                                   end_station_name end_station_id  start_lat  \\\n",
       "0      South Waterfront Walkway - Sinatra Dr & 1 St          HB103  40.706575   \n",
       "1                             Baldwin at Montgomery          JC020  40.706575   \n",
       "2                                Liberty Light Rail          JC052  40.716870   \n",
       "3                                         Warren St          JC006  40.716870   \n",
       "4                                         Warren St          JC006  40.716870   \n",
       "...                                             ...            ...        ...   \n",
       "82544                            Liberty Light Rail          JC052  40.719586   \n",
       "82545                            Liberty Light Rail          JC052  40.719586   \n",
       "82546                            Liberty Light Rail          JC052  40.719586   \n",
       "82547                            Liberty Light Rail          JC052  40.719586   \n",
       "82548                            Liberty Light Rail          JC052  40.719586   \n",
       "\n",
       "       start_lng    end_lat    end_lng member_casual  \n",
       "0     -74.086701  40.736982 -74.027781        member  \n",
       "1     -74.086701  40.723659 -74.064194        member  \n",
       "2     -74.032810  40.711242 -74.055701        member  \n",
       "3     -74.032810  40.721124 -74.038051        member  \n",
       "4     -74.032810  40.721124 -74.038051        member  \n",
       "...          ...        ...        ...           ...  \n",
       "82544 -74.043117  40.711242 -74.055701        casual  \n",
       "82545 -74.043117  40.711242 -74.055701        casual  \n",
       "82546 -74.043117  40.711242 -74.055701        casual  \n",
       "82547 -74.043117  40.711242 -74.055701        casual  \n",
       "82548 -74.043117  40.711242 -74.055701        casual  \n",
       "\n",
       "[82549 rows x 13 columns]"
      ]
     },
     "execution_count": 6,
     "metadata": {},
     "output_type": "execute_result"
    }
   ],
   "source": [
    "July_2021_Monthly_Data"
   ]
  },
  {
   "cell_type": "code",
   "execution_count": 8,
   "metadata": {},
   "outputs": [
    {
     "data": {
      "text/plain": [
       "ride_id               82549\n",
       "rideable_type         82549\n",
       "started_at            82549\n",
       "ended_at              82549\n",
       "start_station_name    82549\n",
       "start_station_id      82549\n",
       "end_station_name      81999\n",
       "end_station_id        81999\n",
       "start_lat             82549\n",
       "start_lng             82549\n",
       "end_lat               82206\n",
       "end_lng               82206\n",
       "member_casual         82549\n",
       "dtype: int64"
      ]
     },
     "execution_count": 8,
     "metadata": {},
     "output_type": "execute_result"
    }
   ],
   "source": [
    "July_2021_Monthly_Data.count()"
   ]
  },
  {
   "cell_type": "code",
   "execution_count": 10,
   "metadata": {},
   "outputs": [],
   "source": [
    "July_2021_Monthly_Data_clean = July_2021_Monthly_Data.dropna()"
   ]
  },
  {
   "cell_type": "code",
   "execution_count": 11,
   "metadata": {},
   "outputs": [
    {
     "data": {
      "text/plain": [
       "ride_id                object\n",
       "rideable_type          object\n",
       "started_at             object\n",
       "ended_at               object\n",
       "start_station_name     object\n",
       "start_station_id       object\n",
       "end_station_name       object\n",
       "end_station_id         object\n",
       "start_lat             float64\n",
       "start_lng             float64\n",
       "end_lat               float64\n",
       "end_lng               float64\n",
       "member_casual          object\n",
       "dtype: object"
      ]
     },
     "execution_count": 11,
     "metadata": {},
     "output_type": "execute_result"
    }
   ],
   "source": [
    "July_2021_Monthly_Data_clean.dtypes"
   ]
  },
  {
   "cell_type": "code",
   "execution_count": 13,
   "metadata": {},
   "outputs": [
    {
     "name": "stderr",
     "output_type": "stream",
     "text": [
      "<ipython-input-13-128f347857f0>:1: SettingWithCopyWarning: \n",
      "A value is trying to be set on a copy of a slice from a DataFrame.\n",
      "Try using .loc[row_indexer,col_indexer] = value instead\n",
      "\n",
      "See the caveats in the documentation: https://pandas.pydata.org/pandas-docs/stable/user_guide/indexing.html#returning-a-view-versus-a-copy\n",
      "  July_2021_Monthly_Data_clean['started_at'] =  pd.to_datetime(July_2021_Monthly_Data_clean['started_at'], infer_datetime_format=True)\n"
     ]
    }
   ],
   "source": [
    "July_2021_Monthly_Data_clean['started_at'] =  pd.to_datetime(July_2021_Monthly_Data_clean['started_at'], infer_datetime_format=True)"
   ]
  },
  {
   "cell_type": "code",
   "execution_count": 14,
   "metadata": {},
   "outputs": [
    {
     "data": {
      "text/plain": [
       "ride_id                       object\n",
       "rideable_type                 object\n",
       "started_at            datetime64[ns]\n",
       "ended_at                      object\n",
       "start_station_name            object\n",
       "start_station_id              object\n",
       "end_station_name              object\n",
       "end_station_id                object\n",
       "start_lat                    float64\n",
       "start_lng                    float64\n",
       "end_lat                      float64\n",
       "end_lng                      float64\n",
       "member_casual                 object\n",
       "dtype: object"
      ]
     },
     "execution_count": 14,
     "metadata": {},
     "output_type": "execute_result"
    }
   ],
   "source": [
    "July_2021_Monthly_Data_clean.dtypes"
   ]
  },
  {
   "cell_type": "code",
   "execution_count": 15,
   "metadata": {},
   "outputs": [
    {
     "name": "stderr",
     "output_type": "stream",
     "text": [
      "<ipython-input-15-08b8beb9b13c>:1: SettingWithCopyWarning: \n",
      "A value is trying to be set on a copy of a slice from a DataFrame.\n",
      "Try using .loc[row_indexer,col_indexer] = value instead\n",
      "\n",
      "See the caveats in the documentation: https://pandas.pydata.org/pandas-docs/stable/user_guide/indexing.html#returning-a-view-versus-a-copy\n",
      "  July_2021_Monthly_Data_clean['ended_at'] =  pd.to_datetime(July_2021_Monthly_Data_clean['ended_at'], infer_datetime_format=True)\n"
     ]
    }
   ],
   "source": [
    "July_2021_Monthly_Data_clean['ended_at'] =  pd.to_datetime(July_2021_Monthly_Data_clean['ended_at'], infer_datetime_format=True)"
   ]
  },
  {
   "cell_type": "code",
   "execution_count": 16,
   "metadata": {},
   "outputs": [
    {
     "data": {
      "text/plain": [
       "ride_id                       object\n",
       "rideable_type                 object\n",
       "started_at            datetime64[ns]\n",
       "ended_at              datetime64[ns]\n",
       "start_station_name            object\n",
       "start_station_id              object\n",
       "end_station_name              object\n",
       "end_station_id                object\n",
       "start_lat                    float64\n",
       "start_lng                    float64\n",
       "end_lat                      float64\n",
       "end_lng                      float64\n",
       "member_casual                 object\n",
       "dtype: object"
      ]
     },
     "execution_count": 16,
     "metadata": {},
     "output_type": "execute_result"
    }
   ],
   "source": [
    "July_2021_Monthly_Data_clean.dtypes"
   ]
  },
  {
   "cell_type": "code",
   "execution_count": 18,
   "metadata": {},
   "outputs": [],
   "source": [
    "July_2021_Monthly_Data_clean.to_csv('July_Data_Clean.csv')"
   ]
  },
  {
   "cell_type": "code",
   "execution_count": null,
   "metadata": {},
   "outputs": [],
   "source": []
  }
 ],
 "metadata": {
  "kernelspec": {
   "display_name": "Python 3",
   "language": "python",
   "name": "python3"
  },
  "language_info": {
   "codemirror_mode": {
    "name": "ipython",
    "version": 3
   },
   "file_extension": ".py",
   "mimetype": "text/x-python",
   "name": "python",
   "nbconvert_exporter": "python",
   "pygments_lexer": "ipython3",
   "version": "3.8.5"
  }
 },
 "nbformat": 4,
 "nbformat_minor": 4
}
